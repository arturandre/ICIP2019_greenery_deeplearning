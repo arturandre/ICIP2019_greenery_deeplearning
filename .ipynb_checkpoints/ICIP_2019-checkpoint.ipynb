{
 "cells": [
  {
   "cell_type": "markdown",
   "metadata": {},
   "source": [
    "In this notebook we'll present results obtained during experiments with\n",
    "multiple deep learning networks (DLN) in two publicly available\n",
    "datasets: CamVid and INACITY's greenery dataset"
   ]
  },
  {
   "cell_type": "markdown",
   "metadata": {},
   "source": [
    "# Settings"
   ]
  },
  {
   "cell_type": "markdown",
   "metadata": {},
   "source": [
    "[Semantic-Segmentation-Suite](https://github.com/GeorgeSeif/Semantic-Segmentation-Suite) is a repository that contains the structured version of CamVid dataset used in this work.\n",
    "\n",
    "__CamVidPath__ keeps the path to CamVid's dataset. 'class_dict.csv' needs to be \n",
    "at the root of the dataset folder's structure that is:\n",
    "\n",
    "<CamVid's root folder>:<br>\n",
    "/class_dict.csv<br>\n",
    "/test/<br>\n",
    "/test_labels/<br>\n",
    "/train/<br>\n",
    "/train_labels/<br>\n",
    "/val/<br>\n",
    "/val_labels/<br>"
   ]
  },
  {
   "cell_type": "code",
   "execution_count": 1,
   "metadata": {},
   "outputs": [],
   "source": [
    "CamVidPath = '../Semantic-Segmentation-Suite/CamVid/'"
   ]
  },
  {
   "cell_type": "markdown",
   "metadata": {},
   "source": [
    "__INACITYPath__ follow the same folder structure as __CamVidPath__ but contains images from INACITY's Greenery Dataset and it configured to be a testing only dataset, it means that all its images are allocated at the 'test' folder"
   ]
  },
  {
   "cell_type": "code",
   "execution_count": 2,
   "metadata": {},
   "outputs": [],
   "source": [
    "INACITYPath = 'greenery_dataset/'"
   ]
  },
  {
   "cell_type": "markdown",
   "metadata": {},
   "source": [
    "__EDS7CheckpointPath__ and __EDS32CheckpointPath__ denotes the path to previously saved checkpoints, that is, the weights of previously trained networks."
   ]
  },
  {
   "cell_type": "code",
   "execution_count": 3,
   "metadata": {},
   "outputs": [],
   "source": [
    "EDS7CheckpointPath  = \"checkpoints/enc-dec-skip-camvid7/\"\n",
    "EDS32CheckpointPath = \"checkpoints/enc-dec-skip-camvid32/\""
   ]
  },
  {
   "cell_type": "markdown",
   "metadata": {},
   "source": [
    "__partition__ dictionary will hold train, validation and test image paths\n",
    "labels' dictionary will hold their labeled counterpart"
   ]
  },
  {
   "cell_type": "code",
   "execution_count": 4,
   "metadata": {},
   "outputs": [
    {
     "name": "stdout",
     "output_type": "stream",
     "text": [
      "Loaded 421 paths to train partition.\n",
      "Loaded 112 paths to val partition.\n",
      "Loaded 168 paths to test partition.\n"
     ]
    }
   ],
   "source": [
    "import os\n",
    "from os import listdir\n",
    "from os.path import isfile, join\n",
    "\n",
    "partition = {}\n",
    "partition['train'] = []\n",
    "partition['val'] = []\n",
    "partition['test'] = []\n",
    "labels = {}\n",
    "\n",
    "type_paths = ['train', 'val', 'test']\n",
    "\n",
    "for type_path in type_paths:\n",
    "    counter = 0\n",
    "    img_path  = os.path.join(CamVidPath, type_path)\n",
    "    gt_path   = os.path.join(CamVidPath, f'{type_path}_labels')\n",
    "\n",
    "    img_files = [f for f in listdir(img_path)]\n",
    "    for img_file in img_files:\n",
    "        partition[type_path].append(os.path.join(img_path, img_file))\n",
    "        labels[os.path.join(img_path, img_file)] = os.path.join(gt_path, f'{img_file[:-4]}_L.png')\n",
    "        counter += 1\n",
    "    print(f'Loaded {counter} paths to {type_path} partition.')\n",
    "   \n"
   ]
  },
  {
   "cell_type": "markdown",
   "metadata": {},
   "source": [
    "Now we set IoU metrics to measure the mean IoU across all classes.\n",
    "\n",
    "Each class' individual IoU will be measured in a latter step.\n",
    "\n",
    "Notice that the mean across individual IoU metrics isn't equivalent to the mean IoU across all classes, this happens because whilst every image contains some class, not all images contains all classes, so when a class is not present in a given image that class' IoU can't be computed over that image, it would result in zero true positives (due to the absence of the class in that image) and zero error when none of the pixels are predicted to be of that class, so it would result in a zero over zero division. To avoid this problem, the individual IoU should disregard images without a single pixel annotated with that class' IoU ."
   ]
  },
  {
   "cell_type": "code",
   "execution_count": 5,
   "metadata": {},
   "outputs": [
    {
     "name": "stderr",
     "output_type": "stream",
     "text": [
      "Using TensorFlow backend.\n"
     ]
    }
   ],
   "source": [
    "import tensorflow as tf\n",
    "from keras import backend as K\n",
    "from keras.utils import to_categorical\n",
    "import numpy as np"
   ]
  },
  {
   "cell_type": "code",
   "execution_count": 6,
   "metadata": {},
   "outputs": [],
   "source": [
    "from custom_loss_metric import *\n",
    "from encoder_decoder_skip_model import *"
   ]
  },
  {
   "cell_type": "markdown",
   "metadata": {},
   "source": [
    "__dict_for_7classes__ and __dict_for_32classes__ will hold different settings (and the architectures) for the encoder-decoder-skip network trained with CamVid's 31 classes (+ void) and its simplified version with 7 classes:\n",
    "\n",
    "'Column_Pole',<br>\n",
    "'Road',<br>\n",
    "'RoadShoulder',<br>\n",
    "'Sidewalk',<br>\n",
    "'Sky',<br>\n",
    "'Tree',<br>\n",
    "'VegetationMisc' and (+ void)."
   ]
  },
  {
   "cell_type": "code",
   "execution_count": 7,
   "metadata": {},
   "outputs": [],
   "source": [
    "dict_for_7classes = {}\n",
    "dict_for_32classes = {}\n",
    "\n",
    "dict_for_7classes['dictClasses'] = []\n",
    "dict_for_32classes['dictClasses'] = []\n",
    "\n",
    "dict_for_7classes['interest_classes'] = ['Column_Pole', 'Road', 'RoadShoulder', 'Sidewalk', 'Sky', 'Tree', 'VegetationMisc', 'Void']\n",
    "dict_for_32classes['interest_classes'] = []"
   ]
  },
  {
   "cell_type": "code",
   "execution_count": 8,
   "metadata": {
    "scrolled": true
   },
   "outputs": [
    {
     "name": "stderr",
     "output_type": "stream",
     "text": [
      "WARNING: Logging before flag parsing goes to stderr.\n",
      "W1003 15:44:18.349225 10208 deprecation_wrapper.py:119] From c:\\users\\arturao\\.conda\\envs\\tf36\\lib\\site-packages\\keras\\backend\\tensorflow_backend.py:74: The name tf.get_default_graph is deprecated. Please use tf.compat.v1.get_default_graph instead.\n",
      "\n"
     ]
    },
    {
     "name": "stdout",
     "output_type": "stream",
     "text": [
      "All classes:\n",
      " \n",
      "name,r,g,b\n",
      "Animal,64,128,64\n",
      "Archway,192,0,128\n",
      "Bicyclist,0,128, 192\n",
      "Bridge,0, 128, 64\n",
      "Building,128, 0, 0\n",
      "Car,64, 0, 128\n",
      "CartLuggagePram,64, 0, 192\n",
      "Child,192, 128, 64\n",
      "Column_Pole,192, 192, 128\n",
      "Fence,64, 64, 128\n",
      "LaneMkgsDriv,128, 0, 192\n",
      "LaneMkgsNonDriv,192, 0, 64\n",
      "Misc_Text,128, 128, 64\n",
      "MotorcycleScooter,192, 0, 192\n",
      "OtherMoving,128, 64, 64\n",
      "ParkingBlock,64, 192, 128\n",
      "Pedestrian,64, 64, 0\n",
      "Road,128, 64, 128\n",
      "RoadShoulder,128, 128, 192\n",
      "Sidewalk,0, 0, 192\n",
      "SignSymbol,192, 128, 128\n",
      "Sky,128, 128, 128\n",
      "SUVPickupTruck,64, 128,192\n",
      "TrafficCone,0, 0, 64\n",
      "TrafficLight,0, 64, 64\n",
      "Train,192, 64, 128\n",
      "Tree,128, 128, 0\n",
      "Truck_Bus,192, 128, 192\n",
      "Tunnel,64, 0, 64\n",
      "VegetationMisc,192, 192, 0\n",
      "Void,0, 0, 0\n",
      "Wall,64, 192, 0\n"
     ]
    },
    {
     "name": "stderr",
     "output_type": "stream",
     "text": [
      "W1003 15:44:19.105354 10208 deprecation_wrapper.py:119] From c:\\users\\arturao\\.conda\\envs\\tf36\\lib\\site-packages\\keras\\backend\\tensorflow_backend.py:517: The name tf.placeholder is deprecated. Please use tf.compat.v1.placeholder instead.\n",
      "\n",
      "W1003 15:44:19.421684 10208 deprecation_wrapper.py:119] From c:\\users\\arturao\\.conda\\envs\\tf36\\lib\\site-packages\\keras\\backend\\tensorflow_backend.py:4138: The name tf.random_uniform is deprecated. Please use tf.random.uniform instead.\n",
      "\n",
      "W1003 15:44:19.831031 10208 deprecation_wrapper.py:119] From c:\\users\\arturao\\.conda\\envs\\tf36\\lib\\site-packages\\keras\\backend\\tensorflow_backend.py:174: The name tf.get_default_session is deprecated. Please use tf.compat.v1.get_default_session instead.\n",
      "\n",
      "W1003 15:44:19.832043 10208 deprecation_wrapper.py:119] From c:\\users\\arturao\\.conda\\envs\\tf36\\lib\\site-packages\\keras\\backend\\tensorflow_backend.py:181: The name tf.ConfigProto is deprecated. Please use tf.compat.v1.ConfigProto instead.\n",
      "\n",
      "W1003 15:44:40.362561 10208 deprecation_wrapper.py:119] From c:\\users\\arturao\\.conda\\envs\\tf36\\lib\\site-packages\\keras\\backend\\tensorflow_backend.py:1834: The name tf.nn.fused_batch_norm is deprecated. Please use tf.compat.v1.nn.fused_batch_norm instead.\n",
      "\n",
      "W1003 15:44:40.584586 10208 deprecation_wrapper.py:119] From c:\\users\\arturao\\.conda\\envs\\tf36\\lib\\site-packages\\keras\\backend\\tensorflow_backend.py:3976: The name tf.nn.max_pool is deprecated. Please use tf.nn.max_pool2d instead.\n",
      "\n"
     ]
    }
   ],
   "source": [
    "from keras.layers import Input\n",
    "# class_dict.csv contains all the classes present in the dataset\n",
    "# as well as it's corresponding labels (RGB values)\n",
    "with open(os.path.join(CamVidPath, 'class_dict.csv'), 'r') as class_dict:\n",
    "    dataset_classes = class_dict.read()\n",
    "    print('All classes:\\n ')\n",
    "    print(dataset_classes)\n",
    "    dataset_classes = dataset_classes.split('\\n')\n",
    "    dict_for_7classes['availableClasses'] = [c.split(',') for c in dataset_classes[1:] if (len(c.split(',')) == 4) and c.split(',')[0] in dict_for_7classes['interest_classes']]\n",
    "    dict_for_32classes['availableClasses'] = [c.split(',') for c in dataset_classes[1:]]\n",
    "    \n",
    "    idx = 1\n",
    "    dict_for_7classes['dictClasses'] = []\n",
    "    for c in dict_for_7classes['availableClasses']:\n",
    "        label, red, green, blue = c\n",
    "        dict_for_7classes['dictClasses'].append([(int(red), int(green), int(blue)), idx])\n",
    "        idx = idx+1\n",
    "        \n",
    "    idx = 1\n",
    "    dict_for_32classes['dictClasses'] = []\n",
    "    for c in dict_for_32classes['availableClasses']:\n",
    "        label, red, green, blue = c\n",
    "        dict_for_32classes['dictClasses'].append([(int(red), int(green), int(blue)), idx])\n",
    "        idx = idx+1\n",
    "\n",
    "dict_for_7classes['number_of_classes'] = len(dict_for_7classes['dictClasses'])\n",
    "dict_for_32classes['number_of_classes'] = len(dict_for_32classes['dictClasses'])\n",
    "\n",
    "# The network is build with its last layer containing as many filters as interest classes\n",
    "# Notice that the \"number of classes\" is summed +1 because classes ID's start at 1\n",
    "# Furthermore, for dict_for_7classes the zero-class will represent the \"other\" class\n",
    "dict_for_7classes['encoder_decoder_skip'] = build_encoder_decoder(Input((None, None, 3)), dict_for_7classes['number_of_classes']+1, preset_model = \"Encoder-Decoder-Skip\")\n",
    "\n",
    "#For dict_for_32classes the zero-class will exist for compatibility, but won't be used.\n",
    "dict_for_32classes['encoder_decoder_skip'] = build_encoder_decoder(Input((None, None, 3)), dict_for_32classes['number_of_classes']+1, preset_model = \"Encoder-Decoder-Skip\")"
   ]
  },
  {
   "cell_type": "markdown",
   "metadata": {},
   "source": [
    "## A better representation of classes, ids and its corresponding RGB colors"
   ]
  },
  {
   "cell_type": "markdown",
   "metadata": {},
   "source": [
    "Notice that at CamVid dataset the \"void\" label was annotated with the RGB color black (0,0,0), but it's ID will be 0. That's to say that during metrics evaluation ID 8 will be ignored (whilst ID 0 will be saved for represent 'others' class).\n",
    "\n",
    "Furthermore, IDs 6 and 7 will be regarded later as \"Greenery\" since they correspond to 'Tree' and 'VegetationMisc' respectively."
   ]
  },
  {
   "cell_type": "markdown",
   "metadata": {},
   "source": [
    "### Classes, IDs and colors for CamVid 7:"
   ]
  },
  {
   "cell_type": "code",
   "execution_count": 9,
   "metadata": {},
   "outputs": [],
   "source": [
    "import matplotlib.patches as mpatches\n",
    "import matplotlib.pyplot as plt"
   ]
  },
  {
   "cell_type": "code",
   "execution_count": 10,
   "metadata": {},
   "outputs": [
    {
     "name": "stdout",
     "output_type": "stream",
     "text": [
      "Classes colors and IDs for CamVid 7 classes\n"
     ]
    },
    {
     "data": {
      "image/png": "[encoded data removed]",
      "text/plain": [
       "<Figure size 432x288 with 1 Axes>"
      ]
     },
     "metadata": {
      "needs_background": "light"
     },
     "output_type": "display_data"
    }
   ],
   "source": [
    "\n",
    "\n",
    "patches = []\n",
    "for i, c in enumerate(dict_for_7classes['availableClasses']):\n",
    "    color = [int(c[1])/255,int(c[2])/255,int(c[3])/255]\n",
    "    patches.append(mpatches.Patch(color=color, label=f\"{c[0]} - id: {dict_for_7classes['dictClasses'][i][-1]} - rgb: {dict_for_7classes['dictClasses'][i][0]}\"))\n",
    "plt.axis('off')\n",
    "plt.legend(handles=patches)\n",
    "print('Classes colors and IDs for CamVid 7 classes')"
   ]
  },
  {
   "cell_type": "markdown",
   "metadata": {},
   "source": [
    "### Classes, IDs and colors for CamVid 32:"
   ]
  },
  {
   "cell_type": "markdown",
   "metadata": {},
   "source": [
    "Notice that here classes with ID 27 and 30 will be regarded later as Greenery since they correspond to the 'Tree' and 'VegetationMisc' classes respectively."
   ]
  },
  {
   "cell_type": "code",
   "execution_count": 11,
   "metadata": {
    "scrolled": false
   },
   "outputs": [
    {
     "name": "stdout",
     "output_type": "stream",
     "text": [
      "Classes colors and IDs for CamVid 32 classes\n"
     ]
    },
    {
     "data": {
      "image/png": "[encoded data removed]",
      "text/plain": [
       "<Figure size 432x288 with 1 Axes>"
      ]
     },
     "metadata": {
      "needs_background": "light"
     },
     "output_type": "display_data"
    }
   ],
   "source": [
    "patches = []\n",
    "for i, c in enumerate(dict_for_32classes['availableClasses']):\n",
    "    color = [int(c[1])/255,int(c[2])/255,int(c[3])/255]\n",
    "    patches.append(mpatches.Patch(color=color, label=f\"{c[0]} - id: {dict_for_32classes['dictClasses'][i][-1]} - rgb: {dict_for_32classes['dictClasses'][i][0]}\"))\n",
    "plt.axis('off')\n",
    "plt.legend(handles=patches)\n",
    "print('Classes colors and IDs for CamVid 32 classes')"
   ]
  },
  {
   "cell_type": "code",
   "execution_count": 12,
   "metadata": {},
   "outputs": [
    {
     "name": "stderr",
     "output_type": "stream",
     "text": [
      "W1003 15:44:49.102506 10208 deprecation_wrapper.py:119] From c:\\users\\arturao\\.conda\\envs\\tf36\\lib\\site-packages\\keras\\optimizers.py:790: The name tf.train.Optimizer is deprecated. Please use tf.compat.v1.train.Optimizer instead.\n",
      "\n",
      "W1003 15:44:49.505729 10208 deprecation.py:323] From C:\\Users\\arturao\\Documents\\projetosdev\\ICIP2019_greenery_deeplearning\\custom_loss_metric.py:61: add_dispatch_support.<locals>.wrapper (from tensorflow.python.ops.array_ops) is deprecated and will be removed in a future version.\n",
      "Instructions for updating:\n",
      "Use tf.where in 2.0, which has the same broadcast rule as np.where\n"
     ]
    }
   ],
   "source": [
    "# The \"void\" class correspondes to pixels not annotated.\n",
    "# They are ignored during training and are not used\n",
    "# in any metric.\n",
    "\n",
    "# Void usually is the last label in interest classes list\n",
    "dict_for_7classes['interest_labels'] = [0,1,2,3,4,5,6,7]\n",
    "dict_for_7classes['ignored_labels'] = [8]\n",
    "\n",
    "dict_for_32classes['interest_labels'] = [1,2,3,4,5,6,7,8,9,10,11,12,13,14,15,16,17,18,19,20,21,22,23,24,25,26,27,28,29,30,32]\n",
    "dict_for_32classes['ignored_labels'] = [31]\n",
    "\n",
    "\n",
    "dict_for_7classes['encoder_decoder_skip'].compile(\n",
    "    loss=automatic_weighted_categorical_crossentropy(dict_for_7classes['interest_labels'],\n",
    "                                                     dict_for_7classes['ignored_labels'])\n",
    "                                                    , optimizer='adam'\n",
    "                                                    ,metrics=[multi_class_iou(dict_for_7classes['ignored_labels'])])\n",
    "dict_for_32classes['encoder_decoder_skip'].compile(\n",
    "    loss=automatic_weighted_categorical_crossentropy(dict_for_32classes['interest_labels'],\n",
    "                                                     dict_for_32classes['ignored_labels'])\n",
    "                                                    , optimizer='adam'\n",
    "                                                    ,metrics=[multi_class_iou(dict_for_32classes['ignored_labels'])])\n"
   ]
  },
  {
   "cell_type": "markdown",
   "metadata": {},
   "source": [
    "# Training with CamVid dataset"
   ]
  },
  {
   "cell_type": "markdown",
   "metadata": {},
   "source": [
    "Here we'll load training data through DataGenerators, in this case using the DataGeneratorCamvid class."
   ]
  },
  {
   "cell_type": "code",
   "execution_count": 13,
   "metadata": {},
   "outputs": [],
   "source": [
    "from DataGenerator import DataGenerator\n",
    "\n",
    "dict_for_7classes['training_generator'] = DataGenerator(\n",
    "    partition['train'],\n",
    "    labels,\n",
    "    dim=(720,960,3),\n",
    "    gtbasefolder=CamVidPath,\n",
    "    batch_size=1,\n",
    "    interest_classes=dict_for_7classes['interest_classes'])\n",
    "dict_for_7classes['val_generator'] = DataGenerator(\n",
    "    partition['val'],\n",
    "    labels,\n",
    "    dim=(720,960,3),\n",
    "    gtbasefolder=CamVidPath,\n",
    "    batch_size=1,\n",
    "    interest_classes=dict_for_7classes['interest_classes'])\n",
    "dict_for_7classes['test_generator'] = DataGenerator(\n",
    "    partition['test'],\n",
    "    labels,\n",
    "    dim=(720,960,3),\n",
    "    gtbasefolder=CamVidPath,\n",
    "    batch_size=1,\n",
    "    interest_classes=dict_for_7classes['interest_classes'])\n",
    "\n",
    "dict_for_32classes['training_generator'] = DataGenerator(\n",
    "    partition['train'],\n",
    "    labels,\n",
    "    dim=(720,960,3),\n",
    "    gtbasefolder=CamVidPath,\n",
    "    batch_size=1,\n",
    "    interest_classes=dict_for_32classes['interest_classes'])\n",
    "dict_for_32classes['val_generator'] = DataGenerator(\n",
    "    partition['val'],\n",
    "    labels,\n",
    "    dim=(720,960,3),\n",
    "    gtbasefolder=CamVidPath,\n",
    "    batch_size=1,\n",
    "    interest_classes=dict_for_32classes['interest_classes'])\n",
    "dict_for_32classes['test_generator'] = DataGenerator(\n",
    "    partition['test'],\n",
    "    labels,\n",
    "    dim=(720,960,3),\n",
    "    gtbasefolder=CamVidPath,\n",
    "    batch_size=1,\n",
    "    interest_classes=dict_for_32classes['interest_classes'])"
   ]
  },
  {
   "cell_type": "markdown",
   "metadata": {},
   "source": [
    "Let's define checkpoints to save networks' progresses"
   ]
  },
  {
   "cell_type": "code",
   "execution_count": 14,
   "metadata": {},
   "outputs": [],
   "source": [
    "from keras.callbacks import ModelCheckpoint\n",
    "\n",
    "dict_for_7classes['filepath']=os.path.join(EDS7CheckpointPath, \"val_IoU-improvement-ep-{epoch:02d}-l-{loss:.2f}-IoU-{IoU:.2f}-vl-{val_loss:.2f}-vIoU-{val_IoU:.2f}.hdf5\")\n",
    "dict_for_32classes['filepath']=os.path.join(EDS32CheckpointPath, \"val_IoU-improvement-ep-{epoch:02d}-l-{loss:.2f}-IoU-{IoU:.2f}-vl-{val_loss:.2f}-vIoU-{val_IoU:.2f}.hdf5\")\n",
    "\n",
    "dict_for_7classes['checkpoint']=ModelCheckpoint(dict_for_7classes['filepath'], monitor='val_IoU', verbose=1, save_best_only=True, mode='max')\n",
    "dict_for_32classes['checkpoint']=ModelCheckpoint(dict_for_32classes['filepath'], monitor='val_IoU', verbose=1, save_best_only=True, mode='max')\n",
    "\n",
    "dict_for_7classes['callbacks_list']=  [dict_for_7classes['checkpoint']]\n",
    "dict_for_32classes['callbacks_list']=  [dict_for_32classes['checkpoint']]\n"
   ]
  },
  {
   "cell_type": "code",
   "execution_count": 15,
   "metadata": {},
   "outputs": [
    {
     "name": "stdout",
     "output_type": "stream",
     "text": [
      "__________________________________________________________________________________________________\n",
      "Layer (type)                    Output Shape         Param #     Connected to                     \n",
      "==================================================================================================\n",
      "input_2 (InputLayer)            (None, None, None, 3 0                                            \n",
      "__________________________________________________________________________________________________\n",
      "conv2d_28 (Conv2D)              (None, None, None, 6 1792        input_2[0][0]                    \n",
      "__________________________________________________________________________________________________\n",
      "activation_33 (Activation)      (None, None, None, 6 0           conv2d_28[0][0]                  \n",
      "__________________________________________________________________________________________________\n",
      "batch_normalization_32 (BatchNo (None, None, None, 6 256         activation_33[0][0]              \n",
      "__________________________________________________________________________________________________\n",
      "conv2d_29 (Conv2D)              (None, None, None, 6 36928       batch_normalization_32[0][0]     \n",
      "__________________________________________________________________________________________________\n",
      "activation_34 (Activation)      (None, None, None, 6 0           conv2d_29[0][0]                  \n",
      "__________________________________________________________________________________________________\n",
      "batch_normalization_33 (BatchNo (None, None, None, 6 256         activation_34[0][0]              \n",
      "__________________________________________________________________________________________________\n",
      "max_pooling2d_6 (MaxPooling2D)  (None, None, None, 6 0           batch_normalization_33[0][0]     \n",
      "__________________________________________________________________________________________________\n",
      "conv2d_30 (Conv2D)              (None, None, None, 1 73856       max_pooling2d_6[0][0]            \n",
      "__________________________________________________________________________________________________\n",
      "activation_35 (Activation)      (None, None, None, 1 0           conv2d_30[0][0]                  \n",
      "__________________________________________________________________________________________________\n",
      "batch_normalization_34 (BatchNo (None, None, None, 1 512         activation_35[0][0]              \n",
      "__________________________________________________________________________________________________\n",
      "conv2d_31 (Conv2D)              (None, None, None, 1 147584      batch_normalization_34[0][0]     \n",
      "__________________________________________________________________________________________________\n",
      "activation_36 (Activation)      (None, None, None, 1 0           conv2d_31[0][0]                  \n",
      "__________________________________________________________________________________________________\n",
      "batch_normalization_35 (BatchNo (None, None, None, 1 512         activation_36[0][0]              \n",
      "__________________________________________________________________________________________________\n",
      "max_pooling2d_7 (MaxPooling2D)  (None, None, None, 1 0           batch_normalization_35[0][0]     \n",
      "__________________________________________________________________________________________________\n",
      "conv2d_32 (Conv2D)              (None, None, None, 2 295168      max_pooling2d_7[0][0]            \n",
      "__________________________________________________________________________________________________\n",
      "activation_37 (Activation)      (None, None, None, 2 0           conv2d_32[0][0]                  \n",
      "__________________________________________________________________________________________________\n",
      "batch_normalization_36 (BatchNo (None, None, None, 2 1024        activation_37[0][0]              \n",
      "__________________________________________________________________________________________________\n",
      "conv2d_33 (Conv2D)              (None, None, None, 2 590080      batch_normalization_36[0][0]     \n",
      "__________________________________________________________________________________________________\n",
      "activation_38 (Activation)      (None, None, None, 2 0           conv2d_33[0][0]                  \n",
      "__________________________________________________________________________________________________\n",
      "batch_normalization_37 (BatchNo (None, None, None, 2 1024        activation_38[0][0]              \n",
      "__________________________________________________________________________________________________\n",
      "conv2d_34 (Conv2D)              (None, None, None, 2 590080      batch_normalization_37[0][0]     \n",
      "__________________________________________________________________________________________________\n",
      "activation_39 (Activation)      (None, None, None, 2 0           conv2d_34[0][0]                  \n",
      "__________________________________________________________________________________________________\n",
      "batch_normalization_38 (BatchNo (None, None, None, 2 1024        activation_39[0][0]              \n",
      "__________________________________________________________________________________________________\n",
      "max_pooling2d_8 (MaxPooling2D)  (None, None, None, 2 0           batch_normalization_38[0][0]     \n",
      "__________________________________________________________________________________________________\n",
      "conv2d_35 (Conv2D)              (None, None, None, 5 1180160     max_pooling2d_8[0][0]            \n",
      "__________________________________________________________________________________________________\n",
      "activation_40 (Activation)      (None, None, None, 5 0           conv2d_35[0][0]                  \n",
      "__________________________________________________________________________________________________\n",
      "batch_normalization_39 (BatchNo (None, None, None, 5 2048        activation_40[0][0]              \n",
      "__________________________________________________________________________________________________\n",
      "conv2d_36 (Conv2D)              (None, None, None, 5 2359808     batch_normalization_39[0][0]     \n",
      "__________________________________________________________________________________________________\n",
      "activation_41 (Activation)      (None, None, None, 5 0           conv2d_36[0][0]                  \n",
      "__________________________________________________________________________________________________\n",
      "batch_normalization_40 (BatchNo (None, None, None, 5 2048        activation_41[0][0]              \n",
      "__________________________________________________________________________________________________\n",
      "conv2d_37 (Conv2D)              (None, None, None, 5 2359808     batch_normalization_40[0][0]     \n",
      "__________________________________________________________________________________________________\n",
      "activation_42 (Activation)      (None, None, None, 5 0           conv2d_37[0][0]                  \n",
      "__________________________________________________________________________________________________\n",
      "batch_normalization_41 (BatchNo (None, None, None, 5 2048        activation_42[0][0]              \n",
      "__________________________________________________________________________________________________\n",
      "max_pooling2d_9 (MaxPooling2D)  (None, None, None, 5 0           batch_normalization_41[0][0]     \n",
      "__________________________________________________________________________________________________\n",
      "conv2d_38 (Conv2D)              (None, None, None, 5 2359808     max_pooling2d_9[0][0]            \n",
      "__________________________________________________________________________________________________\n",
      "activation_43 (Activation)      (None, None, None, 5 0           conv2d_38[0][0]                  \n",
      "__________________________________________________________________________________________________\n",
      "batch_normalization_42 (BatchNo (None, None, None, 5 2048        activation_43[0][0]              \n",
      "__________________________________________________________________________________________________\n",
      "conv2d_39 (Conv2D)              (None, None, None, 5 2359808     batch_normalization_42[0][0]     \n",
      "__________________________________________________________________________________________________\n",
      "activation_44 (Activation)      (None, None, None, 5 0           conv2d_39[0][0]                  \n",
      "__________________________________________________________________________________________________\n",
      "batch_normalization_43 (BatchNo (None, None, None, 5 2048        activation_44[0][0]              \n",
      "__________________________________________________________________________________________________\n",
      "conv2d_40 (Conv2D)              (None, None, None, 5 2359808     batch_normalization_43[0][0]     \n",
      "__________________________________________________________________________________________________\n",
      "activation_45 (Activation)      (None, None, None, 5 0           conv2d_40[0][0]                  \n",
      "__________________________________________________________________________________________________\n",
      "batch_normalization_44 (BatchNo (None, None, None, 5 2048        activation_45[0][0]              \n",
      "__________________________________________________________________________________________________\n",
      "max_pooling2d_10 (MaxPooling2D) (None, None, None, 5 0           batch_normalization_44[0][0]     \n",
      "__________________________________________________________________________________________________\n",
      "conv2d_transpose_6 (Conv2DTrans (None, None, None, 5 786944      max_pooling2d_10[0][0]           \n",
      "__________________________________________________________________________________________________\n",
      "activation_46 (Activation)      (None, None, None, 5 0           conv2d_transpose_6[0][0]         \n",
      "__________________________________________________________________________________________________\n",
      "batch_normalization_45 (BatchNo (None, None, None, 5 2048        activation_46[0][0]              \n",
      "__________________________________________________________________________________________________\n",
      "conv2d_41 (Conv2D)              (None, None, None, 5 2359808     batch_normalization_45[0][0]     \n",
      "__________________________________________________________________________________________________\n",
      "activation_47 (Activation)      (None, None, None, 5 0           conv2d_41[0][0]                  \n",
      "__________________________________________________________________________________________________\n",
      "batch_normalization_46 (BatchNo (None, None, None, 5 2048        activation_47[0][0]              \n",
      "__________________________________________________________________________________________________\n",
      "conv2d_42 (Conv2D)              (None, None, None, 5 2359808     batch_normalization_46[0][0]     \n",
      "__________________________________________________________________________________________________\n",
      "activation_48 (Activation)      (None, None, None, 5 0           conv2d_42[0][0]                  \n",
      "__________________________________________________________________________________________________\n",
      "batch_normalization_47 (BatchNo (None, None, None, 5 2048        activation_48[0][0]              \n",
      "__________________________________________________________________________________________________\n",
      "conv2d_43 (Conv2D)              (None, None, None, 5 2359808     batch_normalization_47[0][0]     \n",
      "__________________________________________________________________________________________________\n",
      "activation_49 (Activation)      (None, None, None, 5 0           conv2d_43[0][0]                  \n",
      "__________________________________________________________________________________________________\n",
      "batch_normalization_48 (BatchNo (None, None, None, 5 2048        activation_49[0][0]              \n",
      "__________________________________________________________________________________________________\n",
      "add_5 (Add)                     (None, None, None, 5 0           batch_normalization_48[0][0]     \n",
      "                                                                 max_pooling2d_9[0][0]            \n",
      "__________________________________________________________________________________________________\n",
      "conv2d_transpose_7 (Conv2DTrans (None, None, None, 5 2359808     add_5[0][0]                      \n",
      "__________________________________________________________________________________________________\n",
      "activation_50 (Activation)      (None, None, None, 5 0           conv2d_transpose_7[0][0]         \n",
      "__________________________________________________________________________________________________\n",
      "batch_normalization_49 (BatchNo (None, None, None, 5 2048        activation_50[0][0]              \n",
      "__________________________________________________________________________________________________\n",
      "conv2d_44 (Conv2D)              (None, None, None, 5 2359808     batch_normalization_49[0][0]     \n",
      "__________________________________________________________________________________________________\n",
      "activation_51 (Activation)      (None, None, None, 5 0           conv2d_44[0][0]                  \n",
      "__________________________________________________________________________________________________\n",
      "batch_normalization_50 (BatchNo (None, None, None, 5 2048        activation_51[0][0]              \n",
      "__________________________________________________________________________________________________\n",
      "conv2d_45 (Conv2D)              (None, None, None, 5 2359808     batch_normalization_50[0][0]     \n",
      "__________________________________________________________________________________________________\n",
      "activation_52 (Activation)      (None, None, None, 5 0           conv2d_45[0][0]                  \n",
      "__________________________________________________________________________________________________\n",
      "batch_normalization_51 (BatchNo (None, None, None, 5 2048        activation_52[0][0]              \n",
      "__________________________________________________________________________________________________\n",
      "conv2d_46 (Conv2D)              (None, None, None, 2 1179904     batch_normalization_51[0][0]     \n",
      "__________________________________________________________________________________________________\n",
      "activation_53 (Activation)      (None, None, None, 2 0           conv2d_46[0][0]                  \n",
      "__________________________________________________________________________________________________\n",
      "batch_normalization_52 (BatchNo (None, None, None, 2 1024        activation_53[0][0]              \n",
      "__________________________________________________________________________________________________\n",
      "add_6 (Add)                     (None, None, None, 2 0           batch_normalization_52[0][0]     \n",
      "                                                                 max_pooling2d_8[0][0]            \n",
      "__________________________________________________________________________________________________\n",
      "conv2d_transpose_8 (Conv2DTrans (None, None, None, 2 590080      add_6[0][0]                      \n",
      "__________________________________________________________________________________________________\n",
      "activation_54 (Activation)      (None, None, None, 2 0           conv2d_transpose_8[0][0]         \n",
      "__________________________________________________________________________________________________\n",
      "batch_normalization_53 (BatchNo (None, None, None, 2 1024        activation_54[0][0]              \n",
      "__________________________________________________________________________________________________\n",
      "conv2d_47 (Conv2D)              (None, None, None, 2 590080      batch_normalization_53[0][0]     \n",
      "__________________________________________________________________________________________________\n",
      "activation_55 (Activation)      (None, None, None, 2 0           conv2d_47[0][0]                  \n",
      "__________________________________________________________________________________________________\n",
      "batch_normalization_54 (BatchNo (None, None, None, 2 1024        activation_55[0][0]              \n",
      "__________________________________________________________________________________________________\n",
      "conv2d_48 (Conv2D)              (None, None, None, 2 590080      batch_normalization_54[0][0]     \n",
      "__________________________________________________________________________________________________\n",
      "activation_56 (Activation)      (None, None, None, 2 0           conv2d_48[0][0]                  \n",
      "__________________________________________________________________________________________________\n",
      "batch_normalization_55 (BatchNo (None, None, None, 2 1024        activation_56[0][0]              \n",
      "__________________________________________________________________________________________________\n",
      "conv2d_49 (Conv2D)              (None, None, None, 1 295040      batch_normalization_55[0][0]     \n",
      "__________________________________________________________________________________________________\n",
      "activation_57 (Activation)      (None, None, None, 1 0           conv2d_49[0][0]                  \n",
      "__________________________________________________________________________________________________\n",
      "batch_normalization_56 (BatchNo (None, None, None, 1 512         activation_57[0][0]              \n",
      "__________________________________________________________________________________________________\n",
      "add_7 (Add)                     (None, None, None, 1 0           batch_normalization_56[0][0]     \n",
      "                                                                 max_pooling2d_7[0][0]            \n",
      "__________________________________________________________________________________________________\n",
      "conv2d_transpose_9 (Conv2DTrans (None, None, None, 1 147584      add_7[0][0]                      \n",
      "__________________________________________________________________________________________________\n",
      "activation_58 (Activation)      (None, None, None, 1 0           conv2d_transpose_9[0][0]         \n",
      "__________________________________________________________________________________________________\n",
      "batch_normalization_57 (BatchNo (None, None, None, 1 512         activation_58[0][0]              \n",
      "__________________________________________________________________________________________________\n",
      "conv2d_50 (Conv2D)              (None, None, None, 1 147584      batch_normalization_57[0][0]     \n",
      "__________________________________________________________________________________________________\n",
      "activation_59 (Activation)      (None, None, None, 1 0           conv2d_50[0][0]                  \n",
      "__________________________________________________________________________________________________\n",
      "batch_normalization_58 (BatchNo (None, None, None, 1 512         activation_59[0][0]              \n",
      "__________________________________________________________________________________________________\n",
      "conv2d_51 (Conv2D)              (None, None, None, 6 73792       batch_normalization_58[0][0]     \n",
      "__________________________________________________________________________________________________\n",
      "activation_60 (Activation)      (None, None, None, 6 0           conv2d_51[0][0]                  \n",
      "__________________________________________________________________________________________________\n",
      "batch_normalization_59 (BatchNo (None, None, None, 6 256         activation_60[0][0]              \n",
      "__________________________________________________________________________________________________\n",
      "add_8 (Add)                     (None, None, None, 6 0           batch_normalization_59[0][0]     \n",
      "                                                                 max_pooling2d_6[0][0]            \n",
      "__________________________________________________________________________________________________\n",
      "conv2d_transpose_10 (Conv2DTran (None, None, None, 6 36928       add_8[0][0]                      \n",
      "__________________________________________________________________________________________________\n",
      "activation_61 (Activation)      (None, None, None, 6 0           conv2d_transpose_10[0][0]        \n",
      "__________________________________________________________________________________________________\n",
      "batch_normalization_60 (BatchNo (None, None, None, 6 256         activation_61[0][0]              \n",
      "__________________________________________________________________________________________________\n",
      "conv2d_52 (Conv2D)              (None, None, None, 6 36928       batch_normalization_60[0][0]     \n",
      "__________________________________________________________________________________________________\n",
      "activation_62 (Activation)      (None, None, None, 6 0           conv2d_52[0][0]                  \n",
      "__________________________________________________________________________________________________\n",
      "batch_normalization_61 (BatchNo (None, None, None, 6 256         activation_62[0][0]              \n",
      "__________________________________________________________________________________________________\n",
      "conv2d_53 (Conv2D)              (None, None, None, 6 36928       batch_normalization_61[0][0]     \n",
      "__________________________________________________________________________________________________\n",
      "activation_63 (Activation)      (None, None, None, 6 0           conv2d_53[0][0]                  \n",
      "__________________________________________________________________________________________________\n",
      "batch_normalization_62 (BatchNo (None, None, None, 6 256         activation_63[0][0]              \n",
      "__________________________________________________________________________________________________\n",
      "conv2d_54 (Conv2D)              (None, None, None, 3 2145        batch_normalization_62[0][0]     \n",
      "__________________________________________________________________________________________________\n",
      "activation_64 (Activation)      (None, None, None, 3 0           conv2d_54[0][0]                  \n",
      "==================================================================================================\n",
      "Total params: 33,425,441\n",
      "Trainable params: 33,406,497\n",
      "Non-trainable params: 18,944\n",
      "__________________________________________________________________________________________________\n"
     ]
    }
   ],
   "source": [
    "dict_for_32classes['encoder_decoder_skip'].summary()"
   ]
  },
  {
   "cell_type": "code",
   "execution_count": 19,
   "metadata": {},
   "outputs": [
    {
     "name": "stdout",
     "output_type": "stream",
     "text": [
      "EDS7\n",
      "maxVa: 0.85, cp: val_IoU-improvement-ep-40-l-0.05-IoU-0.97-vl-2.94-vIoU-0.85.hdf5\n",
      "EDS32\n",
      "maxVa: 0.79, cp: val_IoU-improvement-ep-01-l-0.04-IoU-0.96-vl-5.94-vIoU-0.79.hdf5\n"
     ]
    }
   ],
   "source": [
    "dict_for_7classes['filepathCP'] = dict_for_7classes['filepath'][:dict_for_7classes['filepath'].rfind('/')+1]\n",
    "dict_for_7classes['checkpoints'] = os.listdir(dict_for_7classes['filepathCP'])\n",
    "maxVa = -1\n",
    "cpFile = ''\n",
    "print('EDS7')\n",
    "for cp in dict_for_7classes['checkpoints']:\n",
    "    try:\n",
    "        curVa = float(cp[cp.index(f'vIoU-')+len(f'vIoU-'):cp.index('.hdf5')])\n",
    "        if curVa > maxVa:\n",
    "            maxVa = curVa\n",
    "            cpFile = cp\n",
    "            print(f'maxVa: {maxVa}, cp: {cp}')\n",
    "    except:\n",
    "        pass\n",
    "dict_for_7classes['encoder_decoder_skip'].load_weights(os.path.join(dict_for_7classes['filepathCP'], cpFile))\n",
    "\n",
    "print('EDS32')\n",
    "dict_for_32classes['filepathCP'] = dict_for_32classes['filepath'][:dict_for_32classes['filepath'].rfind('/')+1]\n",
    "dict_for_32classes['checkpoints'] = os.listdir(dict_for_32classes['filepathCP'])\n",
    "maxVa = -1\n",
    "cpFile = ''\n",
    "for cp in dict_for_32classes['checkpoints']:\n",
    "    try:\n",
    "        curVa = float(cp[cp.index(f'vIoU-')+len(f'vIoU-'):cp.index('.hdf5')])\n",
    "        if curVa > maxVa:\n",
    "            maxVa = curVa\n",
    "            cpFile = cp\n",
    "            print(f'maxVa: {maxVa}, cp: {cp}')\n",
    "    except:\n",
    "        pass\n",
    "dict_for_32classes['encoder_decoder_skip'].load_weights(os.path.join(dict_for_32classes['filepathCP'], cpFile))"
   ]
  },
  {
   "cell_type": "code",
   "execution_count": null,
   "metadata": {},
   "outputs": [],
   "source": [
    "\n",
    "dict_for_7classes['history'] = dict_for_7classes['encoder_decoder_skip'].fit_generator(\n",
    "    generator = dict_for_7classes['training_generator'],\n",
    "    validation_data = dict_for_7classes['val_generator'],\n",
    "                    use_multiprocessing=True,\n",
    "                    workers=6,\n",
    "                    verbose=1,\n",
    "                    epochs=1\n",
    "                    ,callbacks = dict_for_7classes['callbacks_list']\n",
    "                    )\n",
    "                   "
   ]
  },
  {
   "cell_type": "code",
   "execution_count": null,
   "metadata": {},
   "outputs": [],
   "source": [
    "dict_for_32classes['history'] = dict_for_32classes['encoder_decoder_skip'].fit_generator(\n",
    "    generator = dict_for_32classes['training_generator'],\n",
    "    validation_data = dict_for_32classes['val_generator'],\n",
    "                    use_multiprocessing=True,\n",
    "                    workers=6,\n",
    "                    verbose=1,\n",
    "                    epochs=1\n",
    "                    ,callbacks = dict_for_32classes['callbacks_list']\n",
    "                    )\n",
    "                   "
   ]
  },
  {
   "cell_type": "markdown",
   "metadata": {},
   "source": [
    "After the training let's reload the best weights wrt. validations IoU"
   ]
  },
  {
   "cell_type": "markdown",
   "metadata": {},
   "source": [
    "# Evaluating the models\n",
    "\n",
    "Here we evaluate the models' mean IoU"
   ]
  },
  {
   "cell_type": "code",
   "execution_count": null,
   "metadata": {},
   "outputs": [],
   "source": [
    "[evaluated_loss_7, evaluated_iou_7] = dict_for_7classes['encoder_decoder_skip'].evaluate_generator(generator = dict_for_7classes['test_generator'],\n",
    "                    use_multiprocessing=True,\n",
    "                    workers=6,\n",
    "                    verbose=1,\n",
    "                    )\n",
    "\n",
    "print(f'Evaluated loss for EDS trained with 7 classes: {evaluated_loss_7}.')\n",
    "print(f'Evaluated mean IoU for EDS trained with 7 classes: {evaluated_iou_7}.')"
   ]
  },
  {
   "cell_type": "code",
   "execution_count": null,
   "metadata": {},
   "outputs": [],
   "source": [
    "[evaluated_loss_32, evaluated_iou_32] = dict_for_32classes['encoder_decoder_skip'].evaluate_generator(generator = dict_for_32classes['test_generator'],\n",
    "                    use_multiprocessing=True,\n",
    "                    workers=6,\n",
    "                    verbose=1,\n",
    "                    )\n",
    "\n",
    "print(f'Evaluated loss for EDS trained with 32 classes: {evaluated_loss_32}.')\n",
    "print(f'Evaluated mean IoU for EDS trained with 32 classes: {evaluated_iou_32}.')"
   ]
  },
  {
   "cell_type": "markdown",
   "metadata": {},
   "source": [
    "# Now we estimate the GVI (over CamVid) through the EDS trained with 32 and with 7 classes and also compute the Mean Absolute Error (MAE) between expected GVI and the predicted one"
   ]
  },
  {
   "cell_type": "code",
   "execution_count": null,
   "metadata": {},
   "outputs": [],
   "source": [
    "import imageio\n",
    "\n",
    "#The GVI vector contains the proportion of the image manually classified as greenery\n",
    "dict_for_7classes['GVI'] = []\n",
    "#The GVI_estimated vector contains the proportion of the image predicted as being greenery\n",
    "dict_for_7classes['GVI_estimated'] = []\n",
    "\n",
    "dict_for_7classes['MAE'] = []\n",
    "\n",
    "dict_for_7classes['TP'] = []\n",
    "dict_for_7classes['FP'] = []\n",
    "dict_for_7classes['FN'] = []\n",
    "\n",
    "#In CamVid with 7 classes pixel labeled as 6 (Tree) or as 7 (VegetationMisc) will be regarded as greenery\n",
    "dict_for_7classes['greenery_labels'] = [6,7] # Camvid 7 classes\n",
    "\n",
    "#partition['test'] corresponds to the CamVid's test partition\n",
    "for imagePath in partition['test']:\n",
    "    \n",
    "    #p is the prediction for an image from the test partition\n",
    "    p = dict_for_7classes['encoder_decoder_skip'].predict(np.asarray([imageio.imread(imagePath)]))\n",
    "    p = np.argmax(p, axis=-1)\n",
    "    \n",
    "    #Here we combine all masks generated from pixels containing only greenery classes\n",
    "    masks = np.asarray([p == l for l in dict_for_7classes['greenery_labels']])\n",
    "    p = np.any(masks.squeeze(), axis=0)\n",
    "    \n",
    "    labeledImage = imageio.imread(labels[imagePath])\n",
    "    \n",
    "    #We separate pixels labeled as void in order to ignore them while taking measurements\n",
    "    void = np.all(labeledImage == [0,0,0], axis=-1)\n",
    "    \n",
    "    GreenMask = np.all(labeledImage == [128,128,0], axis=-1) | np.all(labeledImage == [192,192,0], axis=-1)\n",
    "    NotGreenMask = ~(GreenMask | void)\n",
    "\n",
    "    totalGreen = np.count_nonzero(GreenMask)\n",
    "    total = totalGreen + np.count_nonzero(NotGreenMask)\n",
    "    h, w, *_ = p.shape\n",
    "    MAE_numerator = 0\n",
    "    MAE_denominator = 0\n",
    "    for i in range(h):\n",
    "        for j in range(w):\n",
    "            if void[i][j]: continue\n",
    "            MAE_denominator = MAE_denominator+1\n",
    "            V_hat = 1 if p[i][j] else 0\n",
    "            V = 1 if GreenMask[i][j] else 0\n",
    "            MAE_numerator += np.abs(V_hat-V)\n",
    "    \n",
    "    TP = p & GreenMask\n",
    "    FN = GreenMask & ~p\n",
    "    FP = p & NotGreenMask\n",
    "    dict_for_7classes['TP'].append(np.count_nonzero(TP))\n",
    "    dict_for_7classes['FP'].append(np.count_nonzero(FP))\n",
    "    dict_for_7classes['FN'].append(np.count_nonzero(FN))\n",
    "    \n",
    "    \n",
    "    dict_for_7classes['MAE'].append(MAE_numerator/MAE_denominator)\n",
    "    \n",
    "    dict_for_7classes['GVI'].append(totalGreen/total)\n",
    "    dict_for_7classes['GVI_estimated'].append(np.count_nonzero(p)/total)\n",
    "    \n",
    "dict_for_7classes['MAE']  = np.asarray(dict_for_7classes['MAE'])\n",
    "dict_for_7classes['GVI'] = np.asarray(dict_for_7classes['GVI'])\n",
    "dict_for_7classes['GVI_estimated'] = np.asarray(dict_for_7classes['GVI_estimated'])\n"
   ]
  },
  {
   "cell_type": "code",
   "execution_count": null,
   "metadata": {},
   "outputs": [],
   "source": [
    "import imageio\n",
    "\n",
    "#The GVI vector contains the proportion of the image manually classified as greenery\n",
    "dict_for_32classes['GVI'] = []\n",
    "#The GVI_estimated vector contains the proportion of the image predicted as being greenery\n",
    "dict_for_32classes['GVI_estimated'] = []\n",
    "\n",
    "dict_for_32classes['MAE'] = []\n",
    "\n",
    "dict_for_32classes['TP'] = []\n",
    "dict_for_32classes['FP'] = []\n",
    "dict_for_32classes['FN'] = []\n",
    "\n",
    "#In CamVid with 32 classes pixel labeled as 27 (Tree) or as 30 (VegetationMisc) will be regarded as greenery\n",
    "dict_for_32classes['greenery_labels'] = [27,30] # Camvid 32 classes\n",
    "\n",
    "#partition['test'] corresponds to the CamVid's test partition\n",
    "for imagePath in partition['test']:\n",
    "    \n",
    "    #p is the prediction for an image from the test partition\n",
    "    p = dict_for_32classes['encoder_decoder_skip'].predict(np.asarray([imageio.imread(imagePath)]))\n",
    "    p = np.argmax(p, axis=-1)\n",
    "    \n",
    "    #Here we combine all masks generated from pixels containing only greenery classes\n",
    "    masks = np.asarray([p == l for l in dict_for_32classes['greenery_labels']])\n",
    "    p = np.any(masks.squeeze(), axis=0)\n",
    "    \n",
    "    labeledImage = imageio.imread(labels[imagePath])\n",
    "    \n",
    "    #We separate pixels labeled as void in order to ignore them while taking measurements\n",
    "    void = np.all(labeledImage == [0,0,0], axis=-1)\n",
    "    \n",
    "    GreenMask = np.all(labeledImage == [128,128,0], axis=-1) | np.all(labeledImage == [192,192,0], axis=-1)\n",
    "    NotGreenMask = ~(GreenMask | void)\n",
    "\n",
    "    totalGreen = np.count_nonzero(GreenMask)\n",
    "    total = totalGreen + np.count_nonzero(NotGreenMask)\n",
    "    h, w, *_ = p.shape\n",
    "    MAE_numerator = 0\n",
    "    MAE_denominator = 0\n",
    "    for i in range(h):\n",
    "        for j in range(w):\n",
    "            if void[i][j]: continue\n",
    "            MAE_denominator = MAE_denominator+1\n",
    "            V_hat = 1 if p[i][j] else 0\n",
    "            V = 1 if GreenMask[i][j] else 0\n",
    "            MAE_numerator += np.abs(V_hat-V)\n",
    "    \n",
    "    TP = p & GreenMask\n",
    "    FN = GreenMask & ~p\n",
    "    FP = p & NotGreenMask\n",
    "    dict_for_32classes['TP'].append(np.count_nonzero(TP))\n",
    "    dict_for_32classes['FP'].append(np.count_nonzero(FP))\n",
    "    dict_for_32classes['FN'].append(np.count_nonzero(FN))\n",
    "    \n",
    "    \n",
    "    dict_for_32classes['MAE'].append(MAE_numerator/MAE_denominator)\n",
    "    \n",
    "    dict_for_32classes['GVI'].append(totalGreen/total)\n",
    "    dict_for_32classes['GVI_estimated'].append(np.count_nonzero(p)/total)\n",
    "    \n",
    "dict_for_32classes['MAE']  = np.asarray(dict_for_32classes['MAE'])\n",
    "dict_for_32classes['GVI'] = np.asarray(dict_for_32classes['GVI'])\n",
    "dict_for_32classes['GVI_estimated'] = np.asarray(dict_for_32classes['GVI_estimated'])\n"
   ]
  },
  {
   "cell_type": "markdown",
   "metadata": {},
   "source": [
    "## Here we show other metrics(besides mean IoU) as used in \"Treepedia 2.0: Applying Deep Learning for Large-scale Quantification of Urban Tree Cover\" (https://arxiv.org/abs/1808.04754), namely the Mean Absolute Error, Pearsons' Correlation Coeficient and the 5%95% Estimation Error. We interpreted the last one as being the confidence limits for the mean."
   ]
  },
  {
   "cell_type": "code",
   "execution_count": null,
   "metadata": {},
   "outputs": [],
   "source": [
    "from scipy.stats import pearsonr\n",
    "\n",
    "print(f\"EDS-7 classes Mean Absolute Error(MAE): {np.mean(dict_for_7classes['MAE']):.3f}\")\n",
    "      \n",
    "dict_for_7classes['mean_GVI'] = np.mean(dict_for_7classes['GVI'])\n",
    "print(f\"CamVid's mean GVI with 7 classes: {dict_for_7classes['mean_GVI']:.3f}\")\n",
    "\n",
    "dict_for_7classes['mean_GVI_estimated'] = np.mean(dict_for_7classes['GVI_estimated'])\n",
    "print(f\"EDS-7 classes estimated mean GVI: {dict_for_7classes['mean_GVI_estimated']:.3f}\")\n",
    "\n",
    "dict_for_7classes['std_GVI_estimated'] = np.std(dict_for_7classes['GVI_estimated'], ddof=0)\n",
    "print(f\"EDS-7 estimated GVI standard deviation: {dict_for_7classes['std_GVI_estimated']}\")      \n",
    "\n",
    "dict_for_7classes['upperError'] = dict_for_7classes['mean_GVI_estimated']+dict_for_7classes['std_GVI_estimated']*1.96\n",
    "dict_for_7classes['lowerError'] = dict_for_7classes['mean_GVI_estimated']-dict_for_7classes['std_GVI_estimated']*1.96\n",
    "print(f\"EDS-7 Standard error 5%-95% boundaries: {dict_for_7classes['lowerError']:.3f}, {dict_for_7classes['upperError']:.3f}\")\n",
    "\n",
    "corr, p_value = pearsonr(dict_for_7classes['GVI'], dict_for_7classes['GVI_estimated'])\n",
    "print(f'EDS-7 Pearson Correlation Coeficient between GVI and its estimation: {corr:.3f}, p-value: {p_value}')"
   ]
  },
  {
   "cell_type": "code",
   "execution_count": null,
   "metadata": {},
   "outputs": [],
   "source": [
    "from scipy.stats import pearsonr\n",
    "\n",
    "print(f\"EDS-32 classes Mean Absolute Error(MAE): {np.mean(dict_for_32classes['MAE']):.3f}\")\n",
    "      \n",
    "dict_for_32classes['mean_GVI'] = np.mean(dict_for_32classes['GVI'])\n",
    "print(f\"CamVid's mean GVI with 7 classes: {dict_for_32classes['mean_GVI']:.3f}\")\n",
    "\n",
    "dict_for_32classes['mean_GVI_estimated'] = np.mean(dict_for_32classes['GVI_estimated'])\n",
    "print(f\"EDS-32 classes estimated mean GVI: {dict_for_32classes['mean_GVI_estimated']:.3f}\")\n",
    "\n",
    "dict_for_32classes['std_GVI_estimated'] = np.std(dict_for_32classes['GVI_estimated'], ddof=0)\n",
    "print(f\"EDS-32 estimated GVI standard deviation: {dict_for_32classes['std_GVI_estimated']}\")      \n",
    "\n",
    "dict_for_32classes['upperError'] = dict_for_32classes['mean_GVI_estimated']+dict_for_32classes['std_GVI_estimated']*1.96\n",
    "dict_for_32classes['lowerError'] = dict_for_32classes['mean_GVI_estimated']-dict_for_32classes['std_GVI_estimated']*1.96\n",
    "print(f\"EDS-32 Standard error 5%-95% boundaries: {dict_for_32classes['lowerError']:.3f}, {dict_for_32classes['upperError']:.3f}\")\n",
    "\n",
    "corr, p_value = pearsonr(dict_for_32classes['GVI'], dict_for_32classes['GVI_estimated'])\n",
    "print(f'EDS-32 Pearson Correlation Coeficient between GVI and its estimation: {corr:.3f}, p-value: {p_value}')"
   ]
  },
  {
   "cell_type": "markdown",
   "metadata": {},
   "source": [
    "# Now we'll conduct the same experiments over [INACITY's Greenery Dataset](https://github.com/arturandre/INACITY_groundtruth/blob/master/README.md): "
   ]
  },
  {
   "cell_type": "markdown",
   "metadata": {},
   "source": [
    "### Firstly let's load INACITY's Greenery Dataset\n",
    "\n",
    "Notice that since we trained with CamVid's and we're trying to evaluate the weighting strategy trained with 7 and 32 classes from CamVid INACITY's dataset will be used only for testing, so the only partition with images will be the 'test' one."
   ]
  },
  {
   "cell_type": "code",
   "execution_count": null,
   "metadata": {},
   "outputs": [],
   "source": [
    "partition['train_INACITY'] = []\n",
    "partition['val_INACITY'] = []\n",
    "partition['test_INACITY'] = []\n",
    "\n",
    "type_paths = ['train', 'val', 'test']\n",
    "paths = ['train_INACITY', 'val_INACITY', 'test_INACITY']\n",
    "\n",
    "for idx, type_path in enumerate(type_paths):\n",
    "    counter = 0\n",
    "    img_path  = os.path.join(INACITYPath, type_path)\n",
    "    gt_path   = os.path.join(INACITYPath, f'{type_path}_labels')\n",
    "\n",
    "    img_files = [f for f in listdir(img_path)]\n",
    "    for img_file in img_files:\n",
    "        partition[paths[idx]].append(os.path.join(img_path, img_file))\n",
    "        labels[os.path.join(img_path, img_file)] = os.path.join(gt_path, f'{img_file[:-4]}_L.png')\n",
    "        counter += 1\n",
    "    print(f'Loaded {counter} paths to {paths[idx]} partition.')\n",
    "   \n"
   ]
  },
  {
   "cell_type": "markdown",
   "metadata": {},
   "source": [
    "from DataGenerator import DataGenerator\n",
    "\n",
    "dict_for_7classes['training_INACITY'] = DataGenerator(\n",
    "    partition['train_INACITY'],\n",
    "    labels_INACITY,\n",
    "    dim=(640,640,3),\n",
    "    gtbasefolder=INACITYPath,\n",
    "    batch_size=1)\n",
    "dict_for_7classes['val_INACITY'] = DataGenerator(\n",
    "    partition['val_INACITY'],\n",
    "    labels_INACITY,\n",
    "    dim=(640,640,3),\n",
    "    gtbasefolder=INACITYPath,\n",
    "    batch_size=1)\n",
    "dict_for_7classes['test_INACITY'] = DataGenerator(\n",
    "    partition['test_INACITY'],\n",
    "    labels_INACITY,\n",
    "    dim=(640,640,3),\n",
    "    gtbasefolder=INACITYPath,\n",
    "    batch_size=1)\n",
    "\n",
    "dict_for_32classes['training_INACITY'] = DataGenerator(\n",
    "    partition['train_INACITY'],\n",
    "    labels_INACITY,\n",
    "    dim=(640,640,3),\n",
    "    gtbasefolder=INACITYPath,\n",
    "    batch_size=1)\n",
    "dict_for_32classes['val_INACITY'] = DataGenerator(\n",
    "    partition['val_INACITY'],\n",
    "    labels_INACITY,\n",
    "    dim=(640,640,3),\n",
    "    gtbasefolder=INACITYPath,\n",
    "    batch_size=1)\n",
    "dict_for_32classes['test_INACITY'] = DataGenerator(\n",
    "    partition['test_INACITY'],\n",
    "    labels_INACITY,\n",
    "    dim=(640,640,3),\n",
    "    gtbasefolder=INACITYPath,\n",
    "    batch_size=1)"
   ]
  },
  {
   "cell_type": "markdown",
   "metadata": {},
   "source": [
    "# We INACITY's Greenery Dataset loaded we can begin to evaluate the same metrics as before (IoU, GVI...) using it."
   ]
  },
  {
   "cell_type": "code",
   "execution_count": null,
   "metadata": {},
   "outputs": [],
   "source": [
    "import imageio\n",
    "\n",
    "#The GVI vector contains the proportion of the image manually classified as greenery\n",
    "dict_for_7classes['GVI_INACITY'] = []\n",
    "#The GVI_estimated vector contains the proportion of the image predicted as being greenery\n",
    "dict_for_7classes['GVI_estimated_INACITY'] = []\n",
    "\n",
    "dict_for_7classes['MAE_INACITY'] = []\n",
    "\n",
    "dict_for_7classes['TP_INACITY'] = []\n",
    "dict_for_7classes['FP_INACITY'] = []\n",
    "dict_for_7classes['FN_INACITY'] = []"
   ]
  },
  {
   "cell_type": "markdown",
   "metadata": {},
   "source": [
    "### Here it's important to notice that 6 and 7 labels refer to the index assigned to what will be regarded as greenery in CamVid. Although we're using INACITY's (with other labels) for testing, we'll need to keep the original training labels while predicting and then COMPARE them to labels '1' and '2' (Greenery and Non-Greenery respectively) labels from INACITY's."
   ]
  },
  {
   "cell_type": "code",
   "execution_count": null,
   "metadata": {},
   "outputs": [],
   "source": [
    "#In CamVid with 7 classes pixel labeled as 6 (Tree) or as 7 (VegetationMisc) will be regarded as greenery\n",
    "dict_for_7classes['greenery_labels'] = [6,7] # Camvid 7 classes"
   ]
  },
  {
   "cell_type": "code",
   "execution_count": null,
   "metadata": {},
   "outputs": [],
   "source": [
    "#partition['test_INACITY'] corresponds to INACITY's test partition\n",
    "for imagePath in partition['test_INACITY']:\n",
    "    \n",
    "    # The EDS network have 5 max-pooling layers, that means it'll divide image resolution by 32 ultimately.\n",
    "    # CamVid's images have dimensions of 720x960 which divided by 32 becomes (because of rounding) 22x30\n",
    "    # while up-sampling the 22 will become 44 (instead of 45 as originally) and as so it won't be able to be summed,\n",
    "    # by a skip connection, with it's corresponding down-sampling layer. To solve this problem we use a transposed convolution\n",
    "    # in up-sampling with a filter with dimensions [3x1] (with dilention rate 2) which will effectively make a 22xP sized image\n",
    "    # become 45x2P, that is (22*2+1)x(2*P) sized image.\n",
    "    \n",
    "    # INACITY's images have dimensions of 640x640, so both it's dimensions are divisible by 32. Thus the transposed convolution\n",
    "    # filter size of [3x1] now will make images from down and up sampling incompatible. In order to have a same treatement to\n",
    "    # images from any dataset without croping images we rather make images larger to make them compatible with the network.\n",
    "    # In this case INACITY's images will be vertically padded with 16 zeroed pixels.\n",
    "    testImage = imageio.imread(imagePath)\n",
    "    h,w,c = testImage.shape\n",
    "    padded = np.zeros((h+16,w,c), dtype=testImage.dtype)\n",
    "    padded[:h,:w,:c] = testImage\n",
    "    testImage = padded\n",
    "    \n",
    "    #p is the prediction for an image from the test partition\n",
    "    p = dict_for_7classes['encoder_decoder_skip'].predict(np.asarray([testImage]))\n",
    "    p = np.argmax(p, axis=-1)\n",
    "    \n",
    "    #Here we combine all masks generated from pixels containing only greenery classes\n",
    "    masks = np.asarray([p == l for l in dict_for_7classes['greenery_labels']])\n",
    "    p = np.any(masks.squeeze(), axis=0)\n",
    "    \n",
    "    # labeledImage will be padded as well as the test image. Notice that since [0,0,0] labels correspond to 'void',\n",
    "    # which will be ignored, we don't need to use some other constant for padding\n",
    "    labeledImage = imageio.imread(labels[imagePath])\n",
    "    h,w,c = labeledImage.shape\n",
    "    padded = np.zeros((h+16,w,c), dtype=labeledImage.dtype)\n",
    "    padded[:h,:w,:c] = labeledImage\n",
    "    labeledImage = padded\n",
    "    \n",
    "    #We separate pixels labeled as void in order to ignore them while taking measurements\n",
    "    void = np.all(labeledImage == [0,0,0], axis=-1)\n",
    "    \n",
    "    GreenMask = np.all(labeledImage == [128,128,0], axis=-1) | np.all(labeledImage == [192,192,0], axis=-1)\n",
    "    NotGreenMask = ~(GreenMask | void)\n",
    "\n",
    "    totalGreen = np.count_nonzero(GreenMask)\n",
    "    total = totalGreen + np.count_nonzero(NotGreenMask)\n",
    "    h, w, *_ = p.shape\n",
    "    MAE_numerator = 0\n",
    "    MAE_denominator = 0\n",
    "    for i in range(h):\n",
    "        for j in range(w):\n",
    "            if void[i][j]: continue\n",
    "            MAE_denominator = MAE_denominator+1\n",
    "            V_hat = 1 if p[i][j] else 0\n",
    "            V = 1 if GreenMask[i][j] else 0\n",
    "            MAE_numerator += np.abs(V_hat-V)\n",
    "    \n",
    "    TP = p & GreenMask\n",
    "    FN = GreenMask & ~p\n",
    "    FP = p & NotGreenMask\n",
    "    dict_for_7classes['TP_INACITY'].append(np.count_nonzero(TP))\n",
    "    dict_for_7classes['FP_INACITY'].append(np.count_nonzero(FP))\n",
    "    dict_for_7classes['FN_INACITY'].append(np.count_nonzero(FN))\n",
    "    \n",
    "    \n",
    "    dict_for_7classes['MAE_INACITY'].append(MAE_numerator/MAE_denominator)\n",
    "    \n",
    "    dict_for_7classes['GVI_INACITY'].append(totalGreen/total)\n",
    "    dict_for_7classes['GVI_estimated_INACITY'].append(np.count_nonzero(p)/total)\n",
    "    \n",
    "dict_for_7classes['MAE_INACITY']  = np.asarray(dict_for_7classes['MAE_INACITY'])\n",
    "dict_for_7classes['GVI_INACITY'] = np.asarray(dict_for_7classes['GVI_INACITY'])\n",
    "dict_for_7classes['GVI_estimated_INACITY'] = np.asarray(dict_for_7classes['GVI_estimated_INACITY'])\n"
   ]
  },
  {
   "cell_type": "code",
   "execution_count": null,
   "metadata": {},
   "outputs": [],
   "source": [
    "from scipy.stats import pearsonr\n",
    "\n",
    "print(f\"EDS-7 classes Mean Absolute Error(MAE): {np.mean(dict_for_7classes['MAE_INACITY']):.3f}\")\n",
    "      \n",
    "dict_for_7classes['mean_GVI_INACITY'] = np.mean(dict_for_7classes['GVI_INACITY'])\n",
    "print(f\"INACITY's mean GVI with 7 classes: {dict_for_7classes['mean_GVI_INACITY']:.3f}\")\n",
    "\n",
    "dict_for_7classes['mean_GVI_estimated_INACITY'] = np.mean(dict_for_7classes['GVI_estimated_INACITY'])\n",
    "print(f\"EDS-7 classes estimated mean GVI: {dict_for_7classes['mean_GVI_estimated_INACITY']:.3f}\")\n",
    "\n",
    "dict_for_7classes['std_GVI_estimated_INACITY'] = np.std(dict_for_7classes['GVI_estimated_INACITY'], ddof=0)\n",
    "print(f\"EDS-7 estimated GVI standard deviation: {dict_for_7classes['std_GVI_estimated_INACITY']}\")      \n",
    "\n",
    "dict_for_7classes['upperError_INACITY'] = dict_for_7classes['mean_GVI_estimated_INACITY']+dict_for_7classes['std_GVI_estimated_INACITY']*1.96\n",
    "dict_for_7classes['lowerError_INACITY'] = dict_for_7classes['mean_GVI_estimated_INACITY']-dict_for_7classes['std_GVI_estimated_INACITY']*1.96\n",
    "print(f\"EDS-7 Standard error 5%-95% boundaries: {dict_for_7classes['lowerError_INACITY']:.3f}, {dict_for_7classes['upperError_INACITY']:.3f}\")\n",
    "\n",
    "corr, p_value = pearsonr(dict_for_7classes['GVI_INACITY'], dict_for_7classes['GVI_estimated_INACITY'])\n",
    "print(f'EDS-7 Pearson Correlation Coeficient between GVI and its estimation: {corr:.3f}, p-value: {p_value}')"
   ]
  },
  {
   "cell_type": "markdown",
   "metadata": {},
   "source": [
    "# Now we'll evaluate EDS-32 over INACITY's just the same way as done with EDS-7"
   ]
  },
  {
   "cell_type": "code",
   "execution_count": null,
   "metadata": {},
   "outputs": [],
   "source": [
    "import imageio\n",
    "\n",
    "#The GVI vector contains the proportion of the image manually classified as greenery\n",
    "dict_for_32classes['GVI_INACITY'] = []\n",
    "#The GVI_estimated vector contains the proportion of the image predicted as being greenery\n",
    "dict_for_32classes['GVI_estimated_INACITY'] = []\n",
    "\n",
    "dict_for_32classes['MAE_INACITY'] = []\n",
    "\n",
    "dict_for_32classes['TP_INACITY'] = []\n",
    "dict_for_32classes['FP_INACITY'] = []\n",
    "dict_for_32classes['FN_INACITY'] = []\n",
    "\n",
    "#In CamVid with 7 classes pixel labeled as 27 (Tree) or as 30 (VegetationMisc) will be regarded as greenery\n",
    "dict_for_32classes['greenery_labels'] = [27,30] # Camvid 32 classes\n",
    "\n",
    "#partition['test_INACITY'] corresponds to INACITY's test partition\n",
    "for imagePath in partition['test_INACITY']:\n",
    "    \n",
    "    # The EDS network have 5 max-pooling layers, that means it'll divide image resolution by 32 ultimately.\n",
    "    # CamVid's images have dimensions of 720x960 which divided by 32 becomes (because of rounding) 22x30\n",
    "    # while up-sampling the 22 will become 44 (instead of 45 as originally) and as so it won't be able to be summed,\n",
    "    # by a skip connection, with it's corresponding down-sampling layer. To solve this problem we use a transposed convolution\n",
    "    # in up-sampling with a filter with dimensions [3x1] (with dilention rate 2) which will effectively make a 22xP sized image\n",
    "    # become 45x2P, that is (22*2+1)x(2*P) sized image.\n",
    "    \n",
    "    # INACITY's images have dimensions of 640x640, so both it's dimensions are divisible by 32. Thus the transposed convolution\n",
    "    # filter size of [3x1] now will make images from down and up sampling incompatible. In order to have a same treatement to\n",
    "    # images from any dataset without croping images we rather make images larger to make them compatible with the network.\n",
    "    # In this case INACITY's images will be vertically padded with 16 zeroed pixels.\n",
    "    testImage = imageio.imread(imagePath)\n",
    "    h,w,c = testImage.shape\n",
    "    padded = np.zeros((h+16,w,c), dtype=testImage.dtype)\n",
    "    padded[:h,:w,:c] = testImage\n",
    "    testImage = padded\n",
    "    \n",
    "    #p is the prediction for an image from the test partition\n",
    "    p = dict_for_32classes['encoder_decoder_skip'].predict(np.asarray([testImage]))\n",
    "    p = np.argmax(p, axis=-1)\n",
    "    \n",
    "    #Here we combine all masks generated from pixels containing only greenery classes\n",
    "    masks = np.asarray([p == l for l in dict_for_32classes['greenery_labels']])\n",
    "    p = np.any(masks.squeeze(), axis=0)\n",
    "    \n",
    "    # labeledImage will be padded as well as the test image. Notice that since [0,0,0] labels correspond to 'void',\n",
    "    # which will be ignored, we don't need to use some other constant for padding\n",
    "    labeledImage = imageio.imread(labels[imagePath])\n",
    "    h,w,c = labeledImage.shape\n",
    "    padded = np.zeros((h+16,w,c), dtype=labeledImage.dtype)\n",
    "    padded[:h,:w,:c] = labeledImage\n",
    "    labeledImage = padded\n",
    "    \n",
    "    #We separate pixels labeled as void in order to ignore them while taking measurements\n",
    "    void = np.all(labeledImage == [0,0,0], axis=-1)\n",
    "    \n",
    "    GreenMask = np.all(labeledImage == [128,128,0], axis=-1) | np.all(labeledImage == [192,192,0], axis=-1)\n",
    "    NotGreenMask = ~(GreenMask | void)\n",
    "\n",
    "    totalGreen = np.count_nonzero(GreenMask)\n",
    "    total = totalGreen + np.count_nonzero(NotGreenMask)\n",
    "    h, w, *_ = p.shape\n",
    "    MAE_numerator = 0\n",
    "    MAE_denominator = 0\n",
    "    for i in range(h):\n",
    "        for j in range(w):\n",
    "            if void[i][j]: continue\n",
    "            MAE_denominator = MAE_denominator+1\n",
    "            V_hat = 1 if p[i][j] else 0\n",
    "            V = 1 if GreenMask[i][j] else 0\n",
    "            MAE_numerator += np.abs(V_hat-V)\n",
    "    \n",
    "    TP = p & GreenMask\n",
    "    FN = GreenMask & ~p\n",
    "    FP = p & NotGreenMask\n",
    "    dict_for_32classes['TP_INACITY'].append(np.count_nonzero(TP))\n",
    "    dict_for_32classes['FP_INACITY'].append(np.count_nonzero(FP))\n",
    "    dict_for_32classes['FN_INACITY'].append(np.count_nonzero(FN))\n",
    "    \n",
    "    \n",
    "    dict_for_32classes['MAE_INACITY'].append(MAE_numerator/MAE_denominator)\n",
    "    \n",
    "    dict_for_32classes['GVI_INACITY'].append(totalGreen/total)\n",
    "    dict_for_32classes['GVI_estimated_INACITY'].append(np.count_nonzero(p)/total)\n",
    "    \n",
    "dict_for_32classes['MAE_INACITY']  = np.asarray(dict_for_32classes['MAE_INACITY'])\n",
    "dict_for_32classes['GVI_INACITY'] = np.asarray(dict_for_32classes['GVI_INACITY'])\n",
    "dict_for_32classes['GVI_estimated_INACITY'] = np.asarray(dict_for_32classes['GVI_estimated_INACITY'])\n"
   ]
  },
  {
   "cell_type": "code",
   "execution_count": null,
   "metadata": {},
   "outputs": [],
   "source": [
    "from scipy.stats import pearsonr\n",
    "\n",
    "print(f\"EDS-32 classes Mean Absolute Error(MAE): {np.mean(dict_for_32classes['MAE_INACITY']):.3f}\")\n",
    "      \n",
    "dict_for_32classes['mean_GVI_INACITY'] = np.mean(dict_for_32classes['GVI_INACITY'])\n",
    "print(f\"INACITY's mean GVI with 7 classes: {dict_for_32classes['mean_GVI_INACITY']:.3f}\")\n",
    "\n",
    "dict_for_32classes['mean_GVI_estimated_INACITY'] = np.mean(dict_for_32classes['GVI_estimated_INACITY'])\n",
    "print(f\"EDS-32 classes estimated mean GVI: {dict_for_32classes['mean_GVI_estimated_INACITY']:.3f}\")\n",
    "\n",
    "dict_for_32classes['std_GVI_estimated_INACITY'] = np.std(dict_for_32classes['GVI_estimated_INACITY'], ddof=0)\n",
    "print(f\"EDS-32 estimated GVI standard deviation: {dict_for_32classes['std_GVI_estimated_INACITY']}\")      \n",
    "\n",
    "dict_for_32classes['upperError_INACITY'] = dict_for_32classes['mean_GVI_estimated_INACITY']+dict_for_32classes['std_GVI_estimated_INACITY']*1.96\n",
    "dict_for_32classes['lowerError_INACITY'] = dict_for_32classes['mean_GVI_estimated_INACITY']-dict_for_32classes['std_GVI_estimated_INACITY']*1.96\n",
    "print(f\"EDS-32 Standard error 5%-95% boundaries: {dict_for_32classes['lowerError_INACITY']:.3f}, {dict_for_32classes['upperError_INACITY']:.3f}\")\n",
    "\n",
    "corr, p_value = pearsonr(dict_for_32classes['GVI_INACITY'], dict_for_32classes['GVI_estimated_INACITY'])\n",
    "print(f'EDS-32 Pearson Correlation Coeficient between GVI and its estimation: {corr:.3f}, p-value: {p_value}')"
   ]
  }
 ],
 "metadata": {
  "kernelspec": {
   "display_name": "Python 3",
   "language": "python",
   "name": "python3"
  },
  "language_info": {
   "codemirror_mode": {
    "name": "ipython",
    "version": 3
   },
   "file_extension": ".py",
   "mimetype": "text/x-python",
   "name": "python",
   "nbconvert_exporter": "python",
   "pygments_lexer": "ipython3",
   "version": "3.6.9"
  }
 },
 "nbformat": 4,
 "nbformat_minor": 2
}
